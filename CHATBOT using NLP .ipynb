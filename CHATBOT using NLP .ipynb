{
 "cells": [
  {
   "cell_type": "markdown",
   "id": "58f48fd2",
   "metadata": {},
   "source": [
    "# EXPLORATORY DATA ANALYSIS "
   ]
  },
  {
   "cell_type": "code",
   "execution_count": 3,
   "id": "949abdd6",
   "metadata": {},
   "outputs": [
    {
     "name": "stderr",
     "output_type": "stream",
     "text": [
      "[nltk_data] Downloading package punkt to\n",
      "[nltk_data]     C:\\Users\\HP\\AppData\\Roaming\\nltk_data...\n",
      "[nltk_data]   Package punkt is already up-to-date!\n"
     ]
    }
   ],
   "source": [
    "import pandas as pd\n",
    "# Libraries needed for NLP \n",
    "import nltk \n",
    "nltk.download('punkt')\n",
    "from nltk.stem import PorterStemmer # used to reduce words to their base form, also known as the root form.\n",
    "stemmer = PorterStemmer()"
   ]
  },
  {
   "cell_type": "code",
   "execution_count": 4,
   "id": "985005f8",
   "metadata": {},
   "outputs": [],
   "source": [
    "# Libraries needed for Tensorflow processing \n",
    "import tensorflow as tf\n",
    "import numpy as np\n",
    "import random \n",
    "import json"
   ]
  },
  {
   "cell_type": "code",
   "execution_count": 5,
   "id": "dc060c6e",
   "metadata": {},
   "outputs": [],
   "source": [
    "# Load the intents.json file from your local device \n",
    "with open('intents.json') as json_data :\n",
    "    intents = json.load(json_data)"
   ]
  },
  {
   "cell_type": "code",
   "execution_count": 6,
   "id": "0023c46e",
   "metadata": {},
   "outputs": [
    {
     "data": {
      "text/plain": [
       "{'intents': [{'tag': 'greeting',\n",
       "   'patterns': ['Hi', 'How are you', 'Is anyone there?', 'Hello', 'Good day'],\n",
       "   'responses': ['Hello, thanks for visiting',\n",
       "    'Good to see you again',\n",
       "    'Hi there, how can I help?'],\n",
       "   'context_set': ''},\n",
       "  {'tag': 'goodbye',\n",
       "   'patterns': ['Bye', 'See you later', 'Goodbye'],\n",
       "   'responses': ['See you later, thanks for visiting',\n",
       "    'Have a nice day',\n",
       "    'Bye! Come back again soon.']},\n",
       "  {'tag': 'thanks',\n",
       "   'patterns': ['Thanks', 'Thank you', \"That's helpful\"],\n",
       "   'responses': ['Happy to help!', 'Any time!', 'My pleasure']},\n",
       "  {'tag': 'chatbot',\n",
       "   'patterns': ['Who built this chatbot?',\n",
       "    'Tell me about Chatbot',\n",
       "    'What is this chatbot name?'],\n",
       "   'responses': ['Hi, I am Chatbot designed by Mayank.',\n",
       "    'Thanks for asking. I am designed by Mayank Bajaj.',\n",
       "    'I am a chatbot.']},\n",
       "  {'tag': 'location',\n",
       "   'patterns': ['What is your location?',\n",
       "    'Where are you located?',\n",
       "    'What is your address?'],\n",
       "   'responses': [\"We are from World's largest Democracy India.\",\n",
       "    'You can visit India to meet us',\n",
       "    'Thans for your Interest. I live in India.']},\n",
       "  {'tag': 'connect',\n",
       "   'patterns': ['Give me your social media accounts link',\n",
       "    'Where can we connect',\n",
       "    'How can i reach out to you?',\n",
       "    'Is there any way we can connect'],\n",
       "   'responses': ['You can connect me on Linkedin or Github \\n Linkedin - https://www.linkedin.com/in/mayank-bajaj/ \\n Github - https://github.com/mayank8200',\n",
       "    'You can visit https://mayank-bajaj.me']},\n",
       "  {'tag': 'movies',\n",
       "   'patterns': ['Which is your favourite movie?',\n",
       "    'Suggest me some movies',\n",
       "    'Recommend movies'],\n",
       "   'responses': ['3 idiots',\n",
       "    'Hera Pheri',\n",
       "    'Lage Raho Munna Bhai',\n",
       "    'OMG: Oh My God!',\n",
       "    'PK',\n",
       "    'Yeh Jawani hai Deewani',\n",
       "    'Zindagi na Milegi Doobara',\n",
       "    'Ludo']},\n",
       "  {'tag': 'about',\n",
       "   'patterns': ['Who are you?', 'Tell me about Yourself', 'What is this?'],\n",
       "   'responses': ['Hi, I am Mayank. Nice to meet you. I made this chatbot for fun and practice.',\n",
       "    'Thanks for asking. I am Mayank Bajaj, coder by profession but ML enthusiast by passion.']}]}"
      ]
     },
     "execution_count": 6,
     "metadata": {},
     "output_type": "execute_result"
    }
   ],
   "source": [
    "intents"
   ]
  },
  {
   "cell_type": "markdown",
   "id": "fb585fa6",
   "metadata": {},
   "source": [
    "# PRE-PROCESSING THE TEXT DATA "
   ]
  },
  {
   "cell_type": "code",
   "execution_count": 7,
   "id": "7b380600",
   "metadata": {},
   "outputs": [],
   "source": [
    "words =[]   # will contain all the unique words from the pattern to be trained so that chatbot gives correct outcome  \n",
    "classes =[]   # it will contain the list of all the text totally 8 elements here in text, so it will contain totally 8 elements in the document\n",
    "documents =[] # documents is like a tuple which will contain the first list , the first element of the list of words \n",
    "ignore =['?'] # if you want to remove any special characters "
   ]
  },
  {
   "cell_type": "code",
   "execution_count": 14,
   "id": "3a9a74f9",
   "metadata": {},
   "outputs": [],
   "source": [
    "# loop through each sentence in the intents patterns\n",
    "for intent in intents['intents']:\n",
    "    for pattern in intent['patterns']:\n",
    "        # tokenize each and every word in the sentence\n",
    "        w =nltk.word_tokenize(pattern)\n",
    "        # add words to the words list \n",
    "        words.extend(w)\n",
    "        # add words to documents \n",
    "        documents.append((w,intent['tag']))\n",
    "        # add tags to our classes list \n",
    "        if intent['tag'] not in classes:\n",
    "            classes.append(intent['tag'])"
   ]
  },
  {
   "cell_type": "code",
   "execution_count": 15,
   "id": "f9ee438d",
   "metadata": {},
   "outputs": [
    {
     "name": "stdout",
     "output_type": "stream",
     "text": [
      "29 documents\n",
      "8 classes ['about', 'chatbot', 'connect', 'goodbye', 'greeting', 'location', 'movies', 'thanks']\n",
      "52 unique stemmed words [\"'s\", 'about', 'account', 'address', 'ani', 'anyon', 'are', 'built', 'bye', 'can', 'chatbot', 'connect', 'day', 'favourit', 'give', 'good', 'goodby', 'hello', 'help', 'hi', 'how', 'i', 'is', 'later', 'link', 'locat', 'me', 'media', 'movi', 'name', 'out', 'reach', 'recommend', 'see', 'social', 'some', 'suggest', 'tell', 'thank', 'that', 'there', 'thi', 'to', 'way', 'we', 'what', 'where', 'which', 'who', 'you', 'your', 'yourself']\n"
     ]
    }
   ],
   "source": [
    "# Perform stemming and lower each word as well as remove duplicates\n",
    "words =[stemmer.stem(w.lower()) for w in words if w not in ignore] # stemmer converts the word into its root word\n",
    "words = sorted(list(set(words))) # coverted so that no duplicated or same words are appended in the list \n",
    "\n",
    "# remove duplicate classes \n",
    "classes = sorted(list(set(classes)))\n",
    "\n",
    "print(len(documents),\"documents\")\n",
    "print(len(classes),\"classes\",classes)\n",
    "print(len(words),\"unique stemmed words\",words)"
   ]
  },
  {
   "cell_type": "markdown",
   "id": "c29dfaff",
   "metadata": {},
   "source": [
    "#  CREATING AND TRAINING THE MODEL FOR CHATBOT "
   ]
  },
  {
   "cell_type": "code",
   "execution_count": null,
   "id": "965daad6",
   "metadata": {},
   "outputs": [],
   "source": [
    "# creating training data \n",
    "training =[]   # will work as X data \n",
    "output =[]   # will work as Y data\n",
    "# create an empty array for output\n",
    "output_empty =[0]* len(classes)\n",
    "\n",
    "# creating training set ,bag of words for each sentence \n",
    "for doc in documents:\n",
    "    # initialize bag of words \n",
    "    bag =[]\n",
    "    # list of tokenized words for the pattern \n",
    "    pattern_words =doc[0]\n",
    "    # stemming each word \n",
    "    pattern_words = [stemmer.stem(word.lower()) for word in pattern_words]\n",
    "    # create a bag of words of array \n",
    "    for w in words:\n",
    "        bag.append(1) if w in pattern_words else bag.append(0)\n",
    "    # output is '1' for current tag and '0' for the rest of other tags \n",
    "    output_row = list(output_empty)\n",
    "    output_row[classes.index(doc[1])]=1\n",
    "    \n",
    "    training.append([bag,output_row])\n",
    "# shuffling features and turning it to np.array\n",
    "random.shuffle(training)\n",
    "training = np.array(training)\n",
    "\n",
    "# creating training lists\n",
    "train_x = list(training[:,0])\n",
    "train_y = list(training[:,1])"
   ]
  },
  {
   "cell_type": "code",
   "execution_count": 30,
   "id": "18f3bd60",
   "metadata": {},
   "outputs": [],
   "source": [
    "model = tf.keras.Sequential()\n",
    "model.add(tf.keras.layers.Dense(10,input_shape=(len(train_x[0]),))) # 1st layer with 10m neurons\n",
    "model.add(tf.keras.layers.Dense(10))\n",
    "model.add(tf.keras.layers.Dense(len(train_y[0]),activation='softmax')) # when there is more than 2 class(multi class classification) softmax is used\n",
    "model.compile(tf.keras.optimizers.Adam(),loss='categorical_crossentropy',metrics =['accuracy'])"
   ]
  },
  {
   "cell_type": "code",
   "execution_count": 31,
   "id": "52fdddf7",
   "metadata": {},
   "outputs": [
    {
     "name": "stdout",
     "output_type": "stream",
     "text": [
      "Epoch 1/100\n",
      "4/4 [==============================] - 3s 9ms/step - loss: 2.0253 - accuracy: 0.2759\n",
      "Epoch 2/100\n",
      "4/4 [==============================] - 0s 8ms/step - loss: 1.9987 - accuracy: 0.2759\n",
      "Epoch 3/100\n",
      "4/4 [==============================] - 0s 5ms/step - loss: 1.9746 - accuracy: 0.2759\n",
      "Epoch 4/100\n",
      "4/4 [==============================] - 0s 6ms/step - loss: 1.9514 - accuracy: 0.3103\n",
      "Epoch 5/100\n",
      "4/4 [==============================] - 0s 4ms/step - loss: 1.9288 - accuracy: 0.3103\n",
      "Epoch 6/100\n",
      "4/4 [==============================] - 0s 4ms/step - loss: 1.9058 - accuracy: 0.3103\n",
      "Epoch 7/100\n",
      "4/4 [==============================] - 0s 5ms/step - loss: 1.8855 - accuracy: 0.3103\n",
      "Epoch 8/100\n",
      "4/4 [==============================] - 0s 7ms/step - loss: 1.8623 - accuracy: 0.3448\n",
      "Epoch 9/100\n",
      "4/4 [==============================] - 0s 5ms/step - loss: 1.8421 - accuracy: 0.3793\n",
      "Epoch 10/100\n",
      "4/4 [==============================] - 0s 5ms/step - loss: 1.8187 - accuracy: 0.4138\n",
      "Epoch 11/100\n",
      "4/4 [==============================] - 0s 5ms/step - loss: 1.7968 - accuracy: 0.4828\n",
      "Epoch 12/100\n",
      "4/4 [==============================] - 0s 5ms/step - loss: 1.7758 - accuracy: 0.5172\n",
      "Epoch 13/100\n",
      "4/4 [==============================] - 0s 7ms/step - loss: 1.7540 - accuracy: 0.5517\n",
      "Epoch 14/100\n",
      "4/4 [==============================] - 0s 8ms/step - loss: 1.7315 - accuracy: 0.5517\n",
      "Epoch 15/100\n",
      "4/4 [==============================] - 0s 3ms/step - loss: 1.7096 - accuracy: 0.5517\n",
      "Epoch 16/100\n",
      "4/4 [==============================] - 0s 5ms/step - loss: 1.6864 - accuracy: 0.5517\n",
      "Epoch 17/100\n",
      "4/4 [==============================] - 0s 5ms/step - loss: 1.6643 - accuracy: 0.5517\n",
      "Epoch 18/100\n",
      "4/4 [==============================] - 0s 11ms/step - loss: 1.6408 - accuracy: 0.5517\n",
      "Epoch 19/100\n",
      "4/4 [==============================] - 0s 5ms/step - loss: 1.6182 - accuracy: 0.5862\n",
      "Epoch 20/100\n",
      "4/4 [==============================] - 0s 5ms/step - loss: 1.5944 - accuracy: 0.5862\n",
      "Epoch 21/100\n",
      "4/4 [==============================] - 0s 5ms/step - loss: 1.5701 - accuracy: 0.5862\n",
      "Epoch 22/100\n",
      "4/4 [==============================] - 0s 8ms/step - loss: 1.5479 - accuracy: 0.5862\n",
      "Epoch 23/100\n",
      "4/4 [==============================] - 0s 5ms/step - loss: 1.5235 - accuracy: 0.5862\n",
      "Epoch 24/100\n",
      "4/4 [==============================] - 0s 5ms/step - loss: 1.4985 - accuracy: 0.5862\n",
      "Epoch 25/100\n",
      "4/4 [==============================] - 0s 6ms/step - loss: 1.4752 - accuracy: 0.5862\n",
      "Epoch 26/100\n",
      "4/4 [==============================] - 0s 5ms/step - loss: 1.4506 - accuracy: 0.6207\n",
      "Epoch 27/100\n",
      "4/4 [==============================] - 0s 5ms/step - loss: 1.4246 - accuracy: 0.6552\n",
      "Epoch 28/100\n",
      "4/4 [==============================] - 0s 5ms/step - loss: 1.4003 - accuracy: 0.6207\n",
      "Epoch 29/100\n",
      "4/4 [==============================] - 0s 5ms/step - loss: 1.3739 - accuracy: 0.6552\n",
      "Epoch 30/100\n",
      "4/4 [==============================] - 0s 5ms/step - loss: 1.3486 - accuracy: 0.6552\n",
      "Epoch 31/100\n",
      "4/4 [==============================] - 0s 5ms/step - loss: 1.3229 - accuracy: 0.6552\n",
      "Epoch 32/100\n",
      "4/4 [==============================] - 0s 8ms/step - loss: 1.2970 - accuracy: 0.6897\n",
      "Epoch 33/100\n",
      "4/4 [==============================] - 0s 8ms/step - loss: 1.2713 - accuracy: 0.7586\n",
      "Epoch 34/100\n",
      "4/4 [==============================] - 0s 5ms/step - loss: 1.2437 - accuracy: 0.7586\n",
      "Epoch 35/100\n",
      "4/4 [==============================] - 0s 5ms/step - loss: 1.2186 - accuracy: 0.7931\n",
      "Epoch 36/100\n",
      "4/4 [==============================] - 0s 5ms/step - loss: 1.1925 - accuracy: 0.7931\n",
      "Epoch 37/100\n",
      "4/4 [==============================] - 0s 8ms/step - loss: 1.1662 - accuracy: 0.7931\n",
      "Epoch 38/100\n",
      "4/4 [==============================] - 0s 5ms/step - loss: 1.1412 - accuracy: 0.7931\n",
      "Epoch 39/100\n",
      "4/4 [==============================] - 0s 5ms/step - loss: 1.1148 - accuracy: 0.7931\n",
      "Epoch 40/100\n",
      "4/4 [==============================] - 0s 5ms/step - loss: 1.0895 - accuracy: 0.7931\n",
      "Epoch 41/100\n",
      "4/4 [==============================] - 0s 5ms/step - loss: 1.0649 - accuracy: 0.7931\n",
      "Epoch 42/100\n",
      "4/4 [==============================] - 0s 5ms/step - loss: 1.0398 - accuracy: 0.7931\n",
      "Epoch 43/100\n",
      "4/4 [==============================] - 0s 5ms/step - loss: 1.0142 - accuracy: 0.7931\n",
      "Epoch 44/100\n",
      "4/4 [==============================] - 0s 5ms/step - loss: 0.9904 - accuracy: 0.7931\n",
      "Epoch 45/100\n",
      "4/4 [==============================] - 0s 5ms/step - loss: 0.9657 - accuracy: 0.7931\n",
      "Epoch 46/100\n",
      "4/4 [==============================] - 0s 5ms/step - loss: 0.9421 - accuracy: 0.7931\n",
      "Epoch 47/100\n",
      "4/4 [==============================] - 0s 5ms/step - loss: 0.9179 - accuracy: 0.7931\n",
      "Epoch 48/100\n",
      "4/4 [==============================] - 0s 5ms/step - loss: 0.8958 - accuracy: 0.7931\n",
      "Epoch 49/100\n",
      "4/4 [==============================] - 0s 5ms/step - loss: 0.8735 - accuracy: 0.7931\n",
      "Epoch 50/100\n",
      "4/4 [==============================] - 0s 5ms/step - loss: 0.8504 - accuracy: 0.8276\n",
      "Epoch 51/100\n",
      "4/4 [==============================] - 0s 5ms/step - loss: 0.8302 - accuracy: 0.8276\n",
      "Epoch 52/100\n",
      "4/4 [==============================] - 0s 8ms/step - loss: 0.8077 - accuracy: 0.8276\n",
      "Epoch 53/100\n",
      "4/4 [==============================] - 0s 5ms/step - loss: 0.7876 - accuracy: 0.8276\n",
      "Epoch 54/100\n",
      "4/4 [==============================] - 0s 5ms/step - loss: 0.7668 - accuracy: 0.8276\n",
      "Epoch 55/100\n",
      "4/4 [==============================] - 0s 5ms/step - loss: 0.7474 - accuracy: 0.8276\n",
      "Epoch 56/100\n",
      "4/4 [==============================] - 0s 5ms/step - loss: 0.7277 - accuracy: 0.8276\n",
      "Epoch 57/100\n",
      "4/4 [==============================] - 0s 5ms/step - loss: 0.7095 - accuracy: 0.8276\n",
      "Epoch 58/100\n",
      "4/4 [==============================] - 0s 5ms/step - loss: 0.6916 - accuracy: 0.8276\n",
      "Epoch 59/100\n",
      "4/4 [==============================] - 0s 5ms/step - loss: 0.6737 - accuracy: 0.8276\n",
      "Epoch 60/100\n",
      "4/4 [==============================] - 0s 5ms/step - loss: 0.6558 - accuracy: 0.8276\n",
      "Epoch 61/100\n",
      "4/4 [==============================] - 0s 5ms/step - loss: 0.6394 - accuracy: 0.8621\n",
      "Epoch 62/100\n",
      "4/4 [==============================] - 0s 5ms/step - loss: 0.6231 - accuracy: 0.8621\n",
      "Epoch 63/100\n",
      "4/4 [==============================] - 0s 6ms/step - loss: 0.6072 - accuracy: 0.8621\n",
      "Epoch 64/100\n",
      "4/4 [==============================] - 0s 5ms/step - loss: 0.5917 - accuracy: 0.8621\n",
      "Epoch 65/100\n",
      "4/4 [==============================] - 0s 8ms/step - loss: 0.5773 - accuracy: 0.8621\n",
      "Epoch 66/100\n",
      "4/4 [==============================] - 0s 5ms/step - loss: 0.5627 - accuracy: 0.8621\n",
      "Epoch 67/100\n",
      "4/4 [==============================] - 0s 5ms/step - loss: 0.5481 - accuracy: 0.8621\n",
      "Epoch 68/100\n",
      "4/4 [==============================] - 0s 5ms/step - loss: 0.5350 - accuracy: 0.8621\n",
      "Epoch 69/100\n",
      "4/4 [==============================] - 0s 5ms/step - loss: 0.5217 - accuracy: 0.8621\n",
      "Epoch 70/100\n",
      "4/4 [==============================] - 0s 5ms/step - loss: 0.5083 - accuracy: 0.8621\n",
      "Epoch 71/100\n",
      "4/4 [==============================] - 0s 5ms/step - loss: 0.4963 - accuracy: 0.8621\n",
      "Epoch 72/100\n",
      "4/4 [==============================] - 0s 5ms/step - loss: 0.4846 - accuracy: 0.8621\n",
      "Epoch 73/100\n",
      "4/4 [==============================] - 0s 5ms/step - loss: 0.4719 - accuracy: 0.8621\n",
      "Epoch 74/100\n",
      "4/4 [==============================] - 0s 5ms/step - loss: 0.4605 - accuracy: 0.8621\n",
      "Epoch 75/100\n",
      "4/4 [==============================] - 0s 5ms/step - loss: 0.4489 - accuracy: 0.8621\n",
      "Epoch 76/100\n",
      "4/4 [==============================] - 0s 5ms/step - loss: 0.4379 - accuracy: 0.8621\n",
      "Epoch 77/100\n",
      "4/4 [==============================] - 0s 5ms/step - loss: 0.4276 - accuracy: 0.8621\n",
      "Epoch 78/100\n",
      "4/4 [==============================] - 0s 5ms/step - loss: 0.4163 - accuracy: 0.8621\n",
      "Epoch 79/100\n",
      "4/4 [==============================] - 0s 5ms/step - loss: 0.4065 - accuracy: 0.9310\n",
      "Epoch 80/100\n",
      "4/4 [==============================] - 0s 5ms/step - loss: 0.3968 - accuracy: 0.9310\n",
      "Epoch 81/100\n",
      "4/4 [==============================] - 0s 7ms/step - loss: 0.3867 - accuracy: 0.9655\n",
      "Epoch 82/100\n",
      "4/4 [==============================] - 0s 6ms/step - loss: 0.3780 - accuracy: 0.9655\n",
      "Epoch 83/100\n",
      "4/4 [==============================] - 0s 5ms/step - loss: 0.3686 - accuracy: 0.9655\n",
      "Epoch 84/100\n"
     ]
    },
    {
     "name": "stdout",
     "output_type": "stream",
     "text": [
      "4/4 [==============================] - 0s 5ms/step - loss: 0.3589 - accuracy: 0.9655\n",
      "Epoch 85/100\n",
      "4/4 [==============================] - 0s 7ms/step - loss: 0.3503 - accuracy: 0.9655\n",
      "Epoch 86/100\n",
      "4/4 [==============================] - 0s 3ms/step - loss: 0.3419 - accuracy: 0.9655\n",
      "Epoch 87/100\n",
      "4/4 [==============================] - 0s 5ms/step - loss: 0.3341 - accuracy: 0.9655\n",
      "Epoch 88/100\n",
      "4/4 [==============================] - 0s 3ms/step - loss: 0.3253 - accuracy: 0.9655\n",
      "Epoch 89/100\n",
      "4/4 [==============================] - 0s 6ms/step - loss: 0.3177 - accuracy: 0.9655\n",
      "Epoch 90/100\n",
      "4/4 [==============================] - 0s 3ms/step - loss: 0.3100 - accuracy: 1.0000\n",
      "Epoch 91/100\n",
      "4/4 [==============================] - 0s 5ms/step - loss: 0.3023 - accuracy: 1.0000\n",
      "Epoch 92/100\n",
      "4/4 [==============================] - 0s 5ms/step - loss: 0.2946 - accuracy: 1.0000\n",
      "Epoch 93/100\n",
      "4/4 [==============================] - 0s 5ms/step - loss: 0.2881 - accuracy: 1.0000\n",
      "Epoch 94/100\n",
      "4/4 [==============================] - 0s 5ms/step - loss: 0.2805 - accuracy: 1.0000\n",
      "Epoch 95/100\n",
      "4/4 [==============================] - 0s 3ms/step - loss: 0.2736 - accuracy: 1.0000\n",
      "Epoch 96/100\n",
      "4/4 [==============================] - 0s 5ms/step - loss: 0.2672 - accuracy: 1.0000\n",
      "Epoch 97/100\n",
      "4/4 [==============================] - 0s 5ms/step - loss: 0.2604 - accuracy: 1.0000\n",
      "Epoch 98/100\n",
      "4/4 [==============================] - 0s 5ms/step - loss: 0.2533 - accuracy: 1.0000\n",
      "Epoch 99/100\n",
      "4/4 [==============================] - 0s 5ms/step - loss: 0.2473 - accuracy: 1.0000\n",
      "Epoch 100/100\n",
      "4/4 [==============================] - 0s 5ms/step - loss: 0.2420 - accuracy: 1.0000\n",
      "INFO:tensorflow:Assets written to: model.pkl\\assets\n"
     ]
    }
   ],
   "source": [
    "model.fit(np.array(train_x),np.array(train_y),epochs=100,batch_size=8,verbose=1)\n",
    "model.save(\"model.pkl\")"
   ]
  },
  {
   "cell_type": "markdown",
   "id": "ef59cec8",
   "metadata": {},
   "source": [
    "# MAKING PREDICTIONS USING CHATBOT"
   ]
  },
  {
   "cell_type": "code",
   "execution_count": 32,
   "id": "755f8470",
   "metadata": {},
   "outputs": [],
   "source": [
    "import pickle \n",
    "pickle.dump({\"words\":words,'classes':classes},open(\"training_data\",'wb'))"
   ]
  },
  {
   "cell_type": "code",
   "execution_count": 33,
   "id": "6b05cd5f",
   "metadata": {},
   "outputs": [],
   "source": [
    "from keras.models import load_model\n",
    "model = load_model(\"model.pkl\")"
   ]
  },
  {
   "cell_type": "code",
   "execution_count": 34,
   "id": "75174900",
   "metadata": {},
   "outputs": [],
   "source": [
    "# restoring all the data structures \n",
    "data = pickle.load(open(\"training_data\",\"rb\"))\n",
    "words = data['words']\n",
    "classes = data['classes']"
   ]
  },
  {
   "cell_type": "code",
   "execution_count": 35,
   "id": "0447b8c2",
   "metadata": {},
   "outputs": [],
   "source": [
    "with open('intents.json') as json_data:\n",
    "    intents = json.load(json_data)"
   ]
  },
  {
   "cell_type": "code",
   "execution_count": 54,
   "id": "f0c5df04",
   "metadata": {},
   "outputs": [],
   "source": [
    "def clean_up_sentence(sentence):\n",
    "    # tokenizing the pattern\n",
    "    sentence_words = nltk.word_tokenize(sentence)\n",
    "    # stemming each word \n",
    "    sentence_words =[stemmer.stem(word.lower()) for word in sentence_words]\n",
    "    return sentence_words\n",
    "\n",
    "# returning bag of words array :0 or 1 for each word in the bag that exists in the sentence \n",
    "def bow(sentence,words):\n",
    "    # tokenize the pattern \n",
    "    sentence_words = clean_up_sentence(sentence)\n",
    "    # generating bag of words \n",
    "    bag = [0]*len(words)\n",
    "    for s in sentence_words:\n",
    "        for i,w in enumerate(words):\n",
    "            if w==s:\n",
    "                bag[i]=1\n",
    "    bag = np.array(bag)\n",
    "    return(bag)"
   ]
  },
  {
   "cell_type": "code",
   "execution_count": 56,
   "id": "d25a67ce",
   "metadata": {},
   "outputs": [],
   "source": [
    "ERROR_THRESHOLD =0.30\n",
    "def classify(sentence):\n",
    "    # generate probabilities from the mmodel \n",
    "    bag = bow(sentence,words)\n",
    "    results = model.predict(np.array([bag]))\n",
    "    # filter out predictions below a threshold \n",
    "    results =[[i,r] for i ,r in enumerate(results[0]) if r>ERROR_THRESHOLD]\n",
    "    # sort by strength of probabilty \n",
    "    results.sort(key=lambda x:x[1],reverse=True)\n",
    "    return_list =[]\n",
    "    for r in results:\n",
    "        return_list.append((classes[r[0]],r[1]))\n",
    "    # return tuple of intent and probablity \n",
    "    return return_list\n",
    "\n",
    "def response(sentence):\n",
    "    results = classify(sentence)\n",
    "    # if we have a classification then find the matching intent tag \n",
    "    if results:\n",
    "        # loop as long as there are matches to tje process \n",
    "        while results:\n",
    "            for i in intents['intents']:\n",
    "                # find a tag matching the first result\n",
    "                if i['tag']== results[0][0]:\n",
    "                    # a random response from the intent \n",
    "                    return print(random.choice(i['responses']))\n",
    "            results.pop(0)\n",
    "            \n",
    "    "
   ]
  },
  {
   "cell_type": "code",
   "execution_count": 57,
   "id": "121e920d",
   "metadata": {},
   "outputs": [
    {
     "name": "stdout",
     "output_type": "stream",
     "text": [
      "1/1 [==============================] - 0s 47ms/step\n",
      "You can visit India to meet us\n"
     ]
    }
   ],
   "source": [
    "response('Where are you located?')"
   ]
  },
  {
   "cell_type": "code",
   "execution_count": 58,
   "id": "8df5fd61",
   "metadata": {},
   "outputs": [
    {
     "name": "stdout",
     "output_type": "stream",
     "text": [
      "1/1 [==============================] - 0s 47ms/step\n",
      "See you later, thanks for visiting\n"
     ]
    }
   ],
   "source": [
    "response(\"Bye\")"
   ]
  },
  {
   "cell_type": "markdown",
   "id": "85c0b50b",
   "metadata": {},
   "source": []
  },
  {
   "cell_type": "code",
   "execution_count": null,
   "id": "23c77d4a",
   "metadata": {},
   "outputs": [],
   "source": []
  },
  {
   "cell_type": "code",
   "execution_count": null,
   "id": "d2739db2",
   "metadata": {},
   "outputs": [],
   "source": []
  },
  {
   "cell_type": "code",
   "execution_count": null,
   "id": "7d1ceb27",
   "metadata": {},
   "outputs": [],
   "source": []
  }
 ],
 "metadata": {
  "kernelspec": {
   "display_name": "Python 3 (ipykernel)",
   "language": "python",
   "name": "python3"
  },
  "language_info": {
   "codemirror_mode": {
    "name": "ipython",
    "version": 3
   },
   "file_extension": ".py",
   "mimetype": "text/x-python",
   "name": "python",
   "nbconvert_exporter": "python",
   "pygments_lexer": "ipython3",
   "version": "3.10.9"
  }
 },
 "nbformat": 4,
 "nbformat_minor": 5
}
